{
  "nbformat": 4,
  "nbformat_minor": 0,
  "metadata": {
    "colab": {
      "provenance": [],
      "authorship_tag": "ABX9TyPL7HIqHEvJuGx7EEkuajkp",
      "include_colab_link": true
    },
    "kernelspec": {
      "name": "python3",
      "display_name": "Python 3"
    },
    "language_info": {
      "name": "python"
    }
  },
  "cells": [
    {
      "cell_type": "markdown",
      "metadata": {
        "id": "view-in-github",
        "colab_type": "text"
      },
      "source": [
        "<a href=\"https://colab.research.google.com/github/rabiyatahseen/ML-workshop/blob/main/ML_assignment_1.ipynb\" target=\"_parent\"><img src=\"https://colab.research.google.com/assets/colab-badge.svg\" alt=\"Open In Colab\"/></a>"
      ]
    },
    {
      "cell_type": "code",
      "execution_count": 3,
      "metadata": {
        "colab": {
          "base_uri": "https://localhost:8080/"
        },
        "id": "udfZqHzJl_hQ",
        "outputId": "5734ff0e-d33b-4868-be55-d30d1b14488a"
      },
      "outputs": [
        {
          "output_type": "stream",
          "name": "stdout",
          "text": [
            "[5 7 9]\n",
            "[-3 -3 -3]\n",
            "[ 4 10 18]\n",
            "[0.25 0.4  0.5 ]\n"
          ]
        }
      ],
      "source": [
        "#1.Perform arithmetic operations on NumPy arrays\n",
        "import numpy as np\n",
        "a = np.array([1,2,3])\n",
        "b = np.array([4,5,6])\n",
        "sum = a + b\n",
        "print(sum)\n",
        "subraction = a - b\n",
        "print(subraction)\n",
        "multiplication = a * b\n",
        "print(multiplication)\n",
        "division = a / b\n",
        "print(division)"
      ]
    },
    {
      "cell_type": "code",
      "source": [
        "#2. Write a script to compute the mean and standard deviation of a NumPy array.\n",
        "import numpy as np\n",
        "a = np.array([1,2,3,4,5])\n",
        "mean = np.mean(a)\n",
        "print(mean)\n",
        "std = np.std(a)\n",
        "print(std)"
      ],
      "metadata": {
        "colab": {
          "base_uri": "https://localhost:8080/"
        },
        "id": "2_fk3GFDnJ2N",
        "outputId": "c33f1e61-5734-4e1b-aa0d-fd38ad082975"
      },
      "execution_count": 4,
      "outputs": [
        {
          "output_type": "stream",
          "name": "stdout",
          "text": [
            "3.0\n",
            "1.4142135623730951\n"
          ]
        }
      ]
    },
    {
      "cell_type": "code",
      "source": [
        "#3. Create a NumPy array of integers from 10 to 50 with a step size of 5.\n",
        "import numpy as np\n",
        "array = np.arange(10, 51, 5)\n",
        "print(array)"
      ],
      "metadata": {
        "colab": {
          "base_uri": "https://localhost:8080/"
        },
        "id": "ZrjL3HOBozRO",
        "outputId": "c6089f69-4b5f-488c-e505-007bd798bedc"
      },
      "execution_count": 6,
      "outputs": [
        {
          "output_type": "stream",
          "name": "stdout",
          "text": [
            "[10 15 20 25 30 35 40 45 50]\n"
          ]
        }
      ]
    },
    {
      "cell_type": "code",
      "source": [
        "#4.Reshape the array into a 2x4 matrix.\n",
        "import numpy as np\n",
        "arr = np.array([1, 2, 3, 4, 5, 6, 7, 8])\n",
        "reshaped_arr = arr.reshape(2, 4)\n",
        "print(reshaped_arr)\n"
      ],
      "metadata": {
        "colab": {
          "base_uri": "https://localhost:8080/"
        },
        "id": "eMlpgonkpJlz",
        "outputId": "3a4aa1f3-6f04-4252-fd76-e0e9ba914530"
      },
      "execution_count": 7,
      "outputs": [
        {
          "output_type": "stream",
          "name": "stdout",
          "text": [
            "[[1 2 3 4]\n",
            " [5 6 7 8]]\n"
          ]
        }
      ]
    },
    {
      "cell_type": "code",
      "source": [
        "# 5.Given the array arr = np.array([[1, 2, 3], [4, 5, 6], [7, 8, 9]]):\n",
        " # Extract the sub-matrix containing the last two rows and first two columns.\n",
        "import numpy as np\n",
        "arr = np.array([[1,2,3],[4,5,6],[7,8,9]])\n",
        "sub_matrix = arr[1:, :2]\n",
        "print(sub_matrix)\n",
        " #Replace all elements greater than 4 with 0.\n",
        "arr[arr > 4] = 0\n",
        "print(\"Modified array:\", arr)"
      ],
      "metadata": {
        "colab": {
          "base_uri": "https://localhost:8080/"
        },
        "id": "74BO8mfIpcJB",
        "outputId": "30ff2f43-94b8-4d27-8645-f2492e5c2c00"
      },
      "execution_count": 10,
      "outputs": [
        {
          "output_type": "stream",
          "name": "stdout",
          "text": [
            "[[4 5]\n",
            " [7 8]]\n",
            "Modified array: [[1 2 3]\n",
            " [4 0 0]\n",
            " [0 0 0]]\n"
          ]
        }
      ]
    },
    {
      "cell_type": "code",
      "source": [
        "#6.Create two 1D arrays:\n",
        "# Perform element-wise addition, multiplication, and division\n",
        "import numpy as np\n",
        "a = np.array([1, 2, 3])\n",
        "b = np.array([4, 5, 6])\n",
        "addition = a + b\n",
        "print(addition)\n",
        "multiplication = a * b\n",
        "print(multiplication)\n",
        "division = a / b\n",
        "print(division)\n"
      ],
      "metadata": {
        "colab": {
          "base_uri": "https://localhost:8080/"
        },
        "id": "hWHDu2sKqmCt",
        "outputId": "898fe7ac-279d-4b06-c7fb-22cf3734e1a2"
      },
      "execution_count": 11,
      "outputs": [
        {
          "output_type": "stream",
          "name": "stdout",
          "text": [
            "[5 7 9]\n",
            "[ 4 10 18]\n",
            "[0.25 0.4  0.5 ]\n"
          ]
        }
      ]
    },
    {
      "cell_type": "code",
      "source": [
        "#7.Create a random NumPy array of size (4, 4). Compute:\n",
        "# Mean of each column.\n",
        "# Maximum value of the entire array.\n",
        "# Sum of all elements\n",
        "import numpy as np\n",
        "arr = np.random.rand(4, 4)\n",
        "column_means = np.mean(arr, axis=0)\n",
        "max_value = np.max(arr)\n",
        "sum_of_elements = np.sum(arr)\n",
        "print(\"Mean of each column:\", column_means)\n",
        "print(\"Maximum value:\", max_value)\n",
        "print(\"Sum of all elements:\", sum_of_elements)\n",
        "\n",
        "\n"
      ],
      "metadata": {
        "colab": {
          "base_uri": "https://localhost:8080/"
        },
        "id": "x0DKtGnAsHxE",
        "outputId": "110049f0-2d52-489d-d4bc-89601dde697f"
      },
      "execution_count": 12,
      "outputs": [
        {
          "output_type": "stream",
          "name": "stdout",
          "text": [
            "Mean of each column: [0.77664639 0.52233802 0.51741196 0.42281153]\n",
            "Maximum value: 0.9968668527549224\n",
            "Sum of all elements: 8.95683162020374\n"
          ]
        }
      ]
    },
    {
      "cell_type": "code",
      "source": [
        "#8.Given the array arr = np.array([1, 2, 3, 4]), add 10 to each element and multiply the result by 2.\n",
        "import numpy as np\n",
        "arr = np.array([1, 2, 3, 4])\n",
        "result = (arr + 10) * 2\n",
        "print(result)"
      ],
      "metadata": {
        "colab": {
          "base_uri": "https://localhost:8080/"
        },
        "id": "gAoTBoU6tCKn",
        "outputId": "ae967464-8c10-4572-fb21-447957549177"
      },
      "execution_count": 13,
      "outputs": [
        {
          "output_type": "stream",
          "name": "stdout",
          "text": [
            "[22 24 26 28]\n"
          ]
        }
      ]
    },
    {
      "cell_type": "code",
      "source": [
        "#9.Perform advanced slicing and indexing on a 3D array\n",
        "import numpy as np\n",
        "arr = np.random.randint(1,101,size=(3,4,5))\n",
        "# Extract the second \"layer\"\n",
        "second_layer = arr[1, :, :]\n",
        "print(\"Second layer:\", second_layer)\n",
        "# Extract the first two rows and the last three columns from each \"layer\"\n",
        "sub_array = arr[:, :2, -3:]\n",
        "print(\"Sub-array:\", sub_array)\n",
        "# Replace elements divisible by 3 with -1\n",
        "arr[arr % 3 == 0] = -1\n",
        "print(\"Modified array:\", arr)"
      ],
      "metadata": {
        "colab": {
          "base_uri": "https://localhost:8080/"
        },
        "id": "UrtwOlHZtpG7",
        "outputId": "df65d3ac-6285-4e1d-a641-63a34354ac22"
      },
      "execution_count": 14,
      "outputs": [
        {
          "output_type": "stream",
          "name": "stdout",
          "text": [
            "Second layer: [[31 56 77  7 76]\n",
            " [91 46 33 47 85]\n",
            " [40 30 54 42 74]\n",
            " [44 84 33 50 70]]\n",
            "Sub-array: [[[59 31 68]\n",
            "  [92 29  8]]\n",
            "\n",
            " [[77  7 76]\n",
            "  [33 47 85]]\n",
            "\n",
            " [[65 69 61]\n",
            "  [85 95 62]]]\n",
            "Modified array: [[[56 -1 59 31 68]\n",
            "  [20 74 92 29  8]\n",
            "  [68 -1 80 47 61]\n",
            "  [88 83 58 -1 11]]\n",
            "\n",
            " [[31 56 77  7 76]\n",
            "  [91 46 -1 47 85]\n",
            "  [40 -1 -1 -1 74]\n",
            "  [44 -1 -1 50 70]]\n",
            "\n",
            " [[-1 25 65 -1 61]\n",
            "  [89 73 85 95 62]\n",
            "  [95 74 11 -1 14]\n",
            "  [-1 -1 25 44 22]]]\n"
          ]
        }
      ]
    },
    {
      "cell_type": "code",
      "source": [
        "#10. Work with broadcasting and advanced operations in NumPy.\n",
        "import numpy as np\n",
        "arr = np.random.randint(1, 21, size=(3, 3))\n",
        "# Subtract the mean of each row from its respective elements\n",
        "row_means = np.mean(arr, axis=1, keepdims=True)\n",
        "normalized_arr = arr - row_means\n",
        "print(\"Normalized array:\", normalized_arr)\n",
        "\n",
        "# Create a new array by squaring all the elements\n",
        "squared_arr = arr ** 2\n",
        "print(\"Squared array:\", squared_arr)\n",
        "\n",
        "# Find the indices of the top 3 maximum values\n",
        "flat_arr = arr.flatten()\n",
        "top_3_indices = np.argpartition(flat_arr, -3)[-3:]\n",
        "print(\"Indices of top 3 maximum values:\", top_3_indices)\n"
      ],
      "metadata": {
        "colab": {
          "base_uri": "https://localhost:8080/"
        },
        "id": "Nc_9Pj3GvyqP",
        "outputId": "7af362c0-7ed5-49bf-d5dc-dbc814a1f164"
      },
      "execution_count": 15,
      "outputs": [
        {
          "output_type": "stream",
          "name": "stdout",
          "text": [
            "Normalized array: [[ -2.66666667   4.33333333  -1.66666667]\n",
            " [  6.33333333  -2.66666667  -3.66666667]\n",
            " [  6.66666667   4.66666667 -11.33333333]]\n",
            "Squared array: [[169 400 196]\n",
            " [324  81  64]\n",
            " [361 289   1]]\n",
            "Indices of top 3 maximum values: [3 6 1]\n"
          ]
        }
      ]
    }
  ]
}