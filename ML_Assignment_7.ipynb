{
  "nbformat": 4,
  "nbformat_minor": 0,
  "metadata": {
    "colab": {
      "provenance": [],
      "authorship_tag": "ABX9TyPELsoZc0fZm5lQfIgGqQwa",
      "include_colab_link": true
    },
    "kernelspec": {
      "name": "python3",
      "display_name": "Python 3"
    },
    "language_info": {
      "name": "python"
    }
  },
  "cells": [
    {
      "cell_type": "markdown",
      "metadata": {
        "id": "view-in-github",
        "colab_type": "text"
      },
      "source": [
        "<a href=\"https://colab.research.google.com/github/rabiyatahseen/ML-workshop/blob/main/ML_Assignment_7.ipynb\" target=\"_parent\"><img src=\"https://colab.research.google.com/assets/colab-badge.svg\" alt=\"Open In Colab\"/></a>"
      ]
    },
    {
      "cell_type": "code",
      "execution_count": 1,
      "metadata": {
        "id": "GwDZl37R54CW"
      },
      "outputs": [],
      "source": [
        "import pandas as pd\n",
        "from sklearn.model_selection import train_test_split\n",
        "from sklearn.preprocessing import StandardScaler\n",
        "from sklearn.metrics import classification_report\n",
        "file_path = '/content/50_Startups.csv'\n",
        "data = pd.read_csv(file_path)\n",
        "threshold = data['Profit'].median()\n",
        "data['Profit_Class'] = (data['Profit'] > threshold).astype(int)\n",
        "data.drop(columns=['Profit'], inplace=True)\n",
        "data_encoded = pd.get_dummies(data, columns=['State'], drop_first=True)\n",
        "X = data_encoded.drop(columns=['Profit_Class'])\n",
        "y = data_encoded['Profit_Class']\n",
        "X_train, X_test, y_train, y_test = train_test_split(X, y, test_size=0.2, random_state=42, stratify=y)"
      ]
    },
    {
      "cell_type": "code",
      "source": [
        "from sklearn.linear_model import LogisticRegression\n",
        "from sklearn.metrics import accuracy_score, precision_score, recall_score, f1_score\n",
        "scaler = StandardScaler()\n",
        "X_train_scaled = scaler.fit_transform(X_train)\n",
        "X_test_scaled = scaler.transform(X_test)\n",
        "logistic_model = LogisticRegression(random_state=42)\n",
        "logistic_model.fit(X_train_scaled, y_train)\n",
        "y_pred_lr = logistic_model.predict(X_test_scaled)\n",
        "print(\"Logistic Regression Results:\")\n",
        "print(f\"Accuracy: {accuracy_score(y_test, y_pred_lr):.2f}\")\n",
        "print(f\"Precision: {precision_score(y_test, y_pred_lr, average='weighted'):.2f}\")\n",
        "print(f\"Recall: {recall_score(y_test, y_pred_lr, average='weighted'):.2f}\")\n",
        "print(f\"F1-Score: {f1_score(y_test, y_pred_lr, average='weighted'):.2f}\")"
      ],
      "metadata": {
        "colab": {
          "base_uri": "https://localhost:8080/"
        },
        "id": "9F0nQb7p6HZW",
        "outputId": "eff20554-df28-4d1a-fbb3-b5f3689f4540"
      },
      "execution_count": 2,
      "outputs": [
        {
          "output_type": "stream",
          "name": "stdout",
          "text": [
            "Logistic Regression Results:\n",
            "Accuracy: 0.90\n",
            "Precision: 0.92\n",
            "Recall: 0.90\n",
            "F1-Score: 0.90\n"
          ]
        }
      ]
    },
    {
      "cell_type": "code",
      "source": [
        "from sklearn.naive_bayes import GaussianNB\n",
        "naive_bayes_model = GaussianNB()\n",
        "naive_bayes_model.fit(X_train, y_train)\n",
        "y_pred_nb = naive_bayes_model.predict(X_test)\n",
        "print(\"Naive Bayes Results:\")\n",
        "print(f\"Accuracy: {accuracy_score(y_test, y_pred_nb):.2f}\")\n",
        "print(f\"Precision: {precision_score(y_test, y_pred_nb, average='weighted'):.2f}\")\n",
        "print(f\"Recall: {recall_score(y_test, y_pred_nb, average='weighted'):.2f}\")\n",
        "print(f\"F1-Score: {f1_score(y_test, y_pred_nb, average='weighted'):.2f}\")"
      ],
      "metadata": {
        "colab": {
          "base_uri": "https://localhost:8080/"
        },
        "id": "UWKinWUv6PZW",
        "outputId": "8f59f67a-dcf0-46b5-c307-445abfca11a6"
      },
      "execution_count": 3,
      "outputs": [
        {
          "output_type": "stream",
          "name": "stdout",
          "text": [
            "Naive Bayes Results:\n",
            "Accuracy: 0.90\n",
            "Precision: 0.92\n",
            "Recall: 0.90\n",
            "F1-Score: 0.90\n"
          ]
        }
      ]
    },
    {
      "cell_type": "code",
      "source": [
        "from sklearn.neighbors import KNeighborsClassifier\n",
        "scaler = StandardScaler()\n",
        "X_train_scaled = scaler.fit_transform(X_train)\n",
        "X_test_scaled = scaler.transform(X_test)\n",
        "knn_model = KNeighborsClassifier(n_neighbors=3)\n",
        "knn_model.fit(X_train_scaled, y_train)\n",
        "y_pred_knn = knn_model.predict(X_test_scaled)\n",
        "print(\"KNN Results:\")\n",
        "print(f\"Accuracy: {accuracy_score(y_test, y_pred_knn):.2f}\")\n",
        "print(f\"Precision: {precision_score(y_test, y_pred_knn, average='weighted'):.2f}\")\n",
        "print(f\"Recall: {recall_score(y_test, y_pred_knn, average='weighted'):.2f}\")\n",
        "print(f\"F1-Score: {f1_score(y_test, y_pred_knn, average='weighted'):.2f}\")"
      ],
      "metadata": {
        "colab": {
          "base_uri": "https://localhost:8080/"
        },
        "id": "3PUqi6wW6UD7",
        "outputId": "c38305d2-2cff-43b4-ec18-53510c7e25ba"
      },
      "execution_count": 4,
      "outputs": [
        {
          "output_type": "stream",
          "name": "stdout",
          "text": [
            "KNN Results:\n",
            "Accuracy: 0.90\n",
            "Precision: 0.92\n",
            "Recall: 0.90\n",
            "F1-Score: 0.90\n"
          ]
        }
      ]
    },
    {
      "cell_type": "code",
      "source": [
        "from sklearn.tree import DecisionTreeClassifier\n",
        "decision_tree_model = DecisionTreeClassifier(random_state=42)\n",
        "decision_tree_model.fit(X_train, y_train)\n",
        "y_pred_dt = decision_tree_model.predict(X_test)\n",
        "print(\"Decision Tree Results:\")\n",
        "print(f\"Accuracy: {accuracy_score(y_test, y_pred_dt):.2f}\")\n",
        "print(f\"Precision: {precision_score(y_test, y_pred_dt, average='weighted'):.2f}\")\n",
        "print(f\"Recall: {recall_score(y_test, y_pred_dt, average='weighted'):.2f}\")\n",
        "print(f\"F1-Score: {f1_score(y_test, y_pred_dt, average='weighted'):.2f}\")"
      ],
      "metadata": {
        "colab": {
          "base_uri": "https://localhost:8080/"
        },
        "id": "e7THIddC6YjX",
        "outputId": "5970e2b5-f1e1-4e3c-9e28-0d85a76379bd"
      },
      "execution_count": 5,
      "outputs": [
        {
          "output_type": "stream",
          "name": "stdout",
          "text": [
            "Decision Tree Results:\n",
            "Accuracy: 1.00\n",
            "Precision: 1.00\n",
            "Recall: 1.00\n",
            "F1-Score: 1.00\n"
          ]
        }
      ]
    },
    {
      "cell_type": "code",
      "source": [
        "from sklearn.svm import SVC\n",
        "scaler = StandardScaler()\n",
        "X_train_scaled = scaler.fit_transform(X_train)\n",
        "X_test_scaled = scaler.transform(X_test)\n",
        "svc_model = SVC(random_state=42)\n",
        "svc_model.fit(X_train_scaled, y_train)\n",
        "y_pred_svc = svc_model.predict(X_test_scaled)\n",
        "print(\"Support Vector Classifier Results:\")\n",
        "print(f\"Accuracy: {accuracy_score(y_test, y_pred_svc):.2f}\")\n",
        "print(f\"Precision: {precision_score(y_test, y_pred_svc, average='weighted'):.2f}\")\n",
        "print(f\"Recall: {recall_score(y_test, y_pred_svc, average='weighted'):.2f}\")\n",
        "print(f\"F1-Score: {f1_score(y_test, y_pred_svc, average='weighted'):.2f}\")"
      ],
      "metadata": {
        "colab": {
          "base_uri": "https://localhost:8080/"
        },
        "id": "JheJ9NUF6cwA",
        "outputId": "497d05f7-b383-4171-ea59-ede8c2c97d7b"
      },
      "execution_count": 6,
      "outputs": [
        {
          "output_type": "stream",
          "name": "stdout",
          "text": [
            "Support Vector Classifier Results:\n",
            "Accuracy: 0.90\n",
            "Precision: 0.92\n",
            "Recall: 0.90\n",
            "F1-Score: 0.90\n"
          ]
        }
      ]
    }
  ]
}