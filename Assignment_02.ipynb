{
  "nbformat": 4,
  "nbformat_minor": 0,
  "metadata": {
    "colab": {
      "provenance": [],
      "authorship_tag": "ABX9TyMsFLH547I6njsuRwOZB84E",
      "include_colab_link": true
    },
    "kernelspec": {
      "name": "python3",
      "display_name": "Python 3"
    },
    "language_info": {
      "name": "python"
    }
  },
  "cells": [
    {
      "cell_type": "markdown",
      "metadata": {
        "id": "view-in-github",
        "colab_type": "text"
      },
      "source": [
        "<a href=\"https://colab.research.google.com/github/rabiyatahseen/ML-workshop/blob/main/Assignment_02.ipynb\" target=\"_parent\"><img src=\"https://colab.research.google.com/assets/colab-badge.svg\" alt=\"Open In Colab\"/></a>"
      ]
    },
    {
      "cell_type": "code",
      "execution_count": 1,
      "metadata": {
        "colab": {
          "base_uri": "https://localhost:8080/"
        },
        "id": "Yidh40O9AGbx",
        "outputId": "bbc84772-9d06-4ab3-d109-838739ff3e3f"
      },
      "outputs": [
        {
          "output_type": "stream",
          "name": "stdout",
          "text": [
            "    Name  Age  Salary   Bonus\n",
            "0  Alice   24   50000  5000.0\n",
            "1    Bob   27   55000  5500.0\n"
          ]
        }
      ],
      "source": [
        "#1.Create a Pandas DataFrame from the following dictionary:\n",
        "# Add a new column called Bonus which is 10% of the salary.\n",
        "import pandas as pd\n",
        "data = {'Name': ['Alice', 'Bob', 'Carol'],\n",
        "        'Age': [24, 27, 22],\n",
        "        'Salary': [50000, 55000, 48000]}\n",
        "df = pd.DataFrame(data)\n",
        "df['Bonus'] = df['Salary'] * 0.10\n",
        "print(df.head(2))\n"
      ]
    },
    {
      "cell_type": "code",
      "source": [
        "#2. Given the DataFrame created in the above question:\n",
        "# Display the first two rows.\n",
        "# Compute the mean salary\n",
        "mean_salary = df['Salary'].mean()\n",
        "print(f\"Mean Salary: {mean_salary}\")"
      ],
      "metadata": {
        "colab": {
          "base_uri": "https://localhost:8080/"
        },
        "id": "RFSHnZp-Dm96",
        "outputId": "cfc78054-200f-49eb-9a48-4e745ecd3922"
      },
      "execution_count": 2,
      "outputs": [
        {
          "output_type": "stream",
          "name": "stdout",
          "text": [
            "Mean Salary: 51000.0\n"
          ]
        }
      ]
    },
    {
      "cell_type": "code",
      "source": [
        "#3.Using the same DataFrame:\n",
        "# Extract all rows where the Age is greater than 25.\n",
        "#Filter out rows where the Salary is less than 50000.\n",
        "filtered_df = df[(df['Age'] > 25) & (df['Salary'] > 50000)]\n",
        "print(filtered_df)"
      ],
      "metadata": {
        "colab": {
          "base_uri": "https://localhost:8080/"
        },
        "id": "fsPp7Vt2EJH0",
        "outputId": "f9aa2fe7-ead3-454c-bdad-99126991a49b"
      },
      "execution_count": 3,
      "outputs": [
        {
          "output_type": "stream",
          "name": "stdout",
          "text": [
            "  Name  Age  Salary   Bonus\n",
            "1  Bob   27   55000  5500.0\n"
          ]
        }
      ]
    },
    {
      "cell_type": "code",
      "source": [
        "#4. Create the following DataFrame:\n",
        "# Fill missing values in column A with the mean of the column.\n",
        "# Drop rows where all values are None.\n",
        "data = {'A': [1, 2, None, 4],\n",
        "        'B': [None, 2, 3, None],\n",
        "        'C': [1, 2, 3, 4]}\n",
        "df = pd.DataFrame(data)\n",
        "df['A'].fillna(df['A'].mean(), inplace=True)\n",
        "df = df.dropna(how='all')\n",
        "print(df)"
      ],
      "metadata": {
        "colab": {
          "base_uri": "https://localhost:8080/"
        },
        "id": "Ejxf8JD1EZOW",
        "outputId": "fbb3c3b6-80d4-4fe5-e01f-c939cbee14f2"
      },
      "execution_count": 4,
      "outputs": [
        {
          "output_type": "stream",
          "name": "stdout",
          "text": [
            "          A    B  C\n",
            "0  1.000000  NaN  1\n",
            "1  2.000000  2.0  2\n",
            "2  2.333333  3.0  3\n",
            "3  4.000000  NaN  4\n"
          ]
        },
        {
          "output_type": "stream",
          "name": "stderr",
          "text": [
            "<ipython-input-4-a1583c96af02>:8: FutureWarning: A value is trying to be set on a copy of a DataFrame or Series through chained assignment using an inplace method.\n",
            "The behavior will change in pandas 3.0. This inplace method will never work because the intermediate object on which we are setting values always behaves as a copy.\n",
            "\n",
            "For example, when doing 'df[col].method(value, inplace=True)', try using 'df.method({col: value}, inplace=True)' or df[col] = df[col].method(value) instead, to perform the operation inplace on the original object.\n",
            "\n",
            "\n",
            "  df['A'].fillna(df['A'].mean(), inplace=True)\n"
          ]
        }
      ]
    },
    {
      "cell_type": "code",
      "source": [
        "#5.Create a DataFrame for employees:\n",
        "# Group the data by Department and compute the total and mean salary for each department\n",
        "data = {'Department': ['HR', 'HR', 'IT', 'IT', 'Finance'],\n",
        "        'Employee': ['Alice', 'Bob', 'Carol', 'David', 'Eve'],\n",
        "        'Salary': [150000, 45000, 60000, 65000, 70000]}\n",
        "df = pd.DataFrame(data)\n",
        "grouped_df = df.groupby('Department')['Salary'].agg(['sum', 'mean'])\n",
        "print(grouped_df)"
      ],
      "metadata": {
        "colab": {
          "base_uri": "https://localhost:8080/"
        },
        "id": "CeaAlg5REqwv",
        "outputId": "aa57bb02-e721-41a8-8199-989d4aa7a74b"
      },
      "execution_count": 5,
      "outputs": [
        {
          "output_type": "stream",
          "name": "stdout",
          "text": [
            "               sum     mean\n",
            "Department                 \n",
            "Finance      70000  70000.0\n",
            "HR          195000  97500.0\n",
            "IT          125000  62500.0\n"
          ]
        }
      ]
    },
    {
      "cell_type": "code",
      "source": [
        "#6. Given two DataFrames:\n",
        "# Perform an inner join on the ID column\n",
        "df1 = pd.DataFrame({'ID': [1, 2, 3], 'Name': ['Alice', 'Bob', 'Carol']})\n",
        "df2 = pd.DataFrame({'ID': [2, 3, 4], 'Age': [25, 30, 22]})\n",
        "merged_df = pd.merge(df1, df2, on='ID')\n",
        "print(merged_df)"
      ],
      "metadata": {
        "colab": {
          "base_uri": "https://localhost:8080/"
        },
        "id": "QbGIJO2uE8d5",
        "outputId": "c211a5a2-100b-4bc3-ac89-b5561ddfb41e"
      },
      "execution_count": 7,
      "outputs": [
        {
          "output_type": "stream",
          "name": "stdout",
          "text": [
            "   ID   Name  Age\n",
            "0   2    Bob   25\n",
            "1   3  Carol   30\n"
          ]
        }
      ]
    }
  ]
}